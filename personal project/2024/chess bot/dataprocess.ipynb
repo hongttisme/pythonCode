{
 "cells": [
  {
   "cell_type": "code",
   "execution_count": 17,
   "id": "initial_id",
   "metadata": {
    "collapsed": true,
    "ExecuteTime": {
     "end_time": "2024-06-17T06:25:55.833568Z",
     "start_time": "2024-06-17T06:25:55.536960Z"
    }
   },
   "outputs": [
    {
     "name": "stdout",
     "output_type": "stream",
     "text": [
      "Game 1: ['d4', 'd5', 'c4', 'c6', 'cxd5', 'e6', 'dxe6', 'fxe6', 'Nf3', 'Bb4+', 'Nc3', 'Ba5', 'Bf4']\n",
      "Game 2: ['d4', 'Nc6', 'e4', 'e5', 'f4', 'f6', 'dxe5', 'fxe5', 'fxe5', 'Nxe5', 'Qd4', 'Nc6', 'Qe5+', 'Nxe5', 'c4', 'Bb4+']\n",
      "Game 3: ['e4', 'e5', 'd3', 'd6', 'Be3', 'c6', 'Be2', 'b5', 'Nd2', 'a5', 'a4', 'c5', 'axb5', 'Nc6', 'bxc6', 'Ra6', 'Nc4', 'a4', 'c3', 'a3', 'Nxa3', 'Rxa3', 'Rxa3', 'c4', 'dxc4', 'd5', 'cxd5', 'Qxd5', 'exd5', 'Be6', 'Ra8+', 'Ke7', 'Bc5+', 'Kf6', 'Bxf8', 'Kg6', 'Bxg7', 'Kxg7', 'dxe6', 'Kh6', 'exf7', 'Nf6', 'Rxh8', 'Nh5', 'Bxh5', 'Kg5', 'Rxh7', 'Kf5', 'Qf3+', 'Ke6', 'Bg4+', 'Kd6', 'Rh6+', 'Kc5', 'Qe3+', 'Kb5', 'c4+', 'Kb4', 'Qc3+', 'Ka4', 'Bd1#']\n",
      "Game 4: ['d4', 'd5', 'Nf3', 'Bf5', 'Nc3', 'Nf6', 'Bf4', 'Ng4', 'e3', 'Nc6', 'Be2', 'Qd7', 'O-O', 'O-O-O', 'Nb5', 'Nb4', 'Rc1', 'Nxa2', 'Ra1', 'Nb4', 'Nxa7+', 'Kb8', 'Nb5', 'Bxc2', 'Bxc7+', 'Kc8', 'Qd2', 'Qc6', 'Na7+', 'Kd7', 'Nxc6', 'bxc6', 'Bxd8', 'Kxd8', 'Qxb4', 'e5', 'Qb8+', 'Ke7', 'dxe5', 'Be4', 'Ra7+', 'Ke6', 'Qe8+', 'Kf5', 'Qxf7+', 'Nf6', 'Nh4+', 'Kg5', 'g3', 'Ng4', 'Qf4+', 'Kh5', 'Qxg4+', 'Kh6', 'Qf4+', 'g5', 'Qf6+', 'Bg6', 'Nxg6', 'Bg7', 'Qxg7#']\n",
      "Game 5: ['e4', 'e5', 'Nf3', 'd6', 'd4', 'Nc6', 'd5', 'Nb4', 'a3', 'Na6', 'Nc3', 'Be7', 'b4', 'Nf6', 'Bg5', 'O-O', 'b5', 'Nc5', 'Bxf6', 'Bxf6', 'Bd3', 'Qd7', 'O-O', 'Nxd3', 'Qxd3', 'c6', 'a4', 'cxd5', 'Nxd5', 'Qe6', 'Nc7', 'Qg4', 'Nxa8', 'Bd7', 'Nc7', 'Rc8', 'Nd5', 'Qg6', 'Nxf6+', 'Qxf6', 'Rfd1', 'Re8', 'Qxd6', 'Bg4', 'Qxf6', 'gxf6', 'Rd3', 'Bxf3', 'Rxf3', 'Rd8', 'Rxf6', 'Kg7', 'Rf3', 'Rd2', 'Rg3+', 'Kf8', 'c3', 'Re2', 'f3', 'Rc2', 'Rg5', 'f6', 'Rh5', 'Kg7', 'Rd1', 'Kg6', 'Rh3', 'Rxc3', 'Rd7', 'Rc1+', 'Kf2', 'Rc2+', 'Kg3', 'h5', 'Rxb7', 'Kg5', 'Rxa7', 'h4+', 'Rxh4', 'Rxg2+', 'Kxg2', 'Kxh4', 'b6', 'Kg5', 'b7', 'f5', 'exf5', 'Kxf5', 'b8=Q', 'e4', 'Rf7+', 'Kg5', 'Qg8+', 'Kh6', 'Rh7#']\n"
     ]
    }
   ],
   "source": [
    "import pandas as pd\n",
    "import numpy as np\n",
    "\n",
    "def board_to_matrix(board):\n",
    "    # Initialize a 8x8x12 matrix with zeros\n",
    "    matrix = np.zeros((8, 8), dtype=int)\n",
    "    \n",
    "    # Piece types and their corresponding channels\n",
    "    piece_to_channel = {\n",
    "        'P': 1,  # White pawn\n",
    "        'N': 2,  # White knight\n",
    "        'B': 3,  # White bishop\n",
    "        'R': 4,  # White rook\n",
    "        'Q': 5,  # White queen\n",
    "        'K': 6,  # White king\n",
    "        'p': 7,  # Black pawn\n",
    "        'n': 8,  # Black knight\n",
    "        'b': 9,  # Black bishop\n",
    "        'r': 10,  # Black rook\n",
    "        'q': 11, # Black queen\n",
    "        'k': 12  # Black king\n",
    "    }\n",
    "    \n",
    "    # Map the pieces to the matrix\n",
    "    for square in chess.SQUARES:\n",
    "        piece = board.piece_at(square)\n",
    "        if piece:\n",
    "            row = 7 - (square // 8)\n",
    "            col = square % 8\n",
    "            channel = piece_to_channel[piece.symbol()]\n",
    "            matrix[row, col] = channel\n",
    "            \n",
    "    \n",
    "    return matrix\n",
    "\n",
    "# Load the CSV file\n",
    "file_path = 'games.csv'\n",
    "games_df = pd.read_csv(file_path)\n",
    "\n",
    "# Extract the moves from each game and store them in a 2D list\n",
    "moves_2d_list = [game.split() for game in games_df['moves']]\n",
    "\n",
    "# Display the first few entries to verify the result\n",
    "for i, moves in enumerate(moves_2d_list[:5]):\n",
    "    print(f\"Game {i + 1}: {moves}\")\n"
   ]
  },
  {
   "cell_type": "code",
   "outputs": [
    {
     "data": {
      "text/plain": "(1212827, 65)"
     },
     "execution_count": 18,
     "metadata": {},
     "output_type": "execute_result"
    }
   ],
   "source": [
    "import chess\n",
    "\n",
    "xs = []\n",
    "\n",
    "for game in moves_2d_list:\n",
    "    chess_board = chess.Board()\n",
    "    i = 0\n",
    "\n",
    "    for move in game:\n",
    "\n",
    "        board_array = board_to_matrix(chess_board)\n",
    "        board_array = board_array.reshape(64)\n",
    "        if i % 2 == 0:\n",
    "            a = np.array([14])\n",
    "        else:\n",
    "            a = np.array([13])\n",
    "\n",
    "        x = np.concatenate((a, board_array))\n",
    "        xs.append(x)   \n",
    "        chess_board.push_san(move)\n",
    "        i += 1\n",
    "\n",
    "xs = np.stack(xs)\n",
    "xs.shape"
   ],
   "metadata": {
    "collapsed": false,
    "ExecuteTime": {
     "end_time": "2024-06-17T06:27:02.592499Z",
     "start_time": "2024-06-17T06:25:55.834571Z"
    }
   },
   "id": "41385c23763be8f9",
   "execution_count": 18
  },
  {
   "cell_type": "code",
   "outputs": [],
   "source": [
    "np.save('chess_board_input.npy', xs)"
   ],
   "metadata": {
    "collapsed": false,
    "ExecuteTime": {
     "end_time": "2024-06-17T06:27:02.851136Z",
     "start_time": "2024-06-17T06:27:02.593502Z"
    }
   },
   "id": "b6dffb96927a240c",
   "execution_count": 19
  },
  {
   "cell_type": "code",
   "outputs": [
    {
     "name": "stdout",
     "output_type": "stream",
     "text": [
      "r n b q k b n r\n",
      "p p p p p p p p\n",
      ". . . . . . . .\n",
      ". . . . . . . .\n",
      ". . . P . . . .\n",
      ". . . . . . . .\n",
      "P P P . P P P P\n",
      "R N B Q K B N R\n"
     ]
    },
    {
     "data": {
      "text/plain": "731"
     },
     "execution_count": 20,
     "metadata": {},
     "output_type": "execute_result"
    }
   ],
   "source": [
    "a = ['d4', 'd5', 'c4', 'c6', 'cxd5', 'e6', 'dxe6', 'fxe6', 'Nf3', 'Bb4+', 'Nc3', 'Ba5', 'Bf4']\n",
    "the_board = chess.Board()\n",
    "the_board.push_san(a[0])\n",
    "print(the_board)\n",
    "move = the_board.pop()\n",
    "move.from_square*64 + move.to_square"
   ],
   "metadata": {
    "collapsed": false,
    "ExecuteTime": {
     "end_time": "2024-06-17T06:27:02.856988Z",
     "start_time": "2024-06-17T06:27:02.852136Z"
    }
   },
   "id": "320fdd87472a68ed",
   "execution_count": 20
  },
  {
   "cell_type": "code",
   "outputs": [],
   "source": [
    "moves_vector =[]\n",
    "for game in moves_2d_list:\n",
    "    chess_board = chess.Board()\n",
    "\n",
    "    for move in game:\n",
    "        chess_board.push_san(move)\n",
    "        the_move = chess_board.pop()\n",
    "        move_value = the_move.from_square*64 + the_move.to_square\n",
    "        moves_vector.append(move_value)\n",
    "        chess_board.push_san(move)\n",
    "        "
   ],
   "metadata": {
    "collapsed": false,
    "ExecuteTime": {
     "end_time": "2024-06-17T06:27:42.493165Z",
     "start_time": "2024-06-17T06:27:02.858226Z"
    }
   },
   "id": "4b4c47d9651fbedc",
   "execution_count": 21
  },
  {
   "cell_type": "code",
   "outputs": [
    {
     "data": {
      "text/plain": "1212827"
     },
     "execution_count": 28,
     "metadata": {},
     "output_type": "execute_result"
    }
   ],
   "source": [
    "len(moves_vector)\n",
    "\n"
   ],
   "metadata": {
    "collapsed": false,
    "ExecuteTime": {
     "end_time": "2024-06-17T06:39:08.028403Z",
     "start_time": "2024-06-17T06:39:08.024084Z"
    }
   },
   "id": "f0a3f574e4730f58",
   "execution_count": 28
  },
  {
   "cell_type": "code",
   "outputs": [],
   "source": [],
   "metadata": {
    "collapsed": false,
    "ExecuteTime": {
     "end_time": "2024-06-17T06:27:42.508300Z",
     "start_time": "2024-06-17T06:27:42.506169Z"
    }
   },
   "id": "8e94d3872d0b98b7",
   "execution_count": 22
  },
  {
   "cell_type": "code",
   "outputs": [],
   "source": [
    "np.save('chess_board_label.npy', moves_vector)"
   ],
   "metadata": {
    "collapsed": false,
    "ExecuteTime": {
     "end_time": "2024-06-17T06:27:42.559477Z",
     "start_time": "2024-06-17T06:27:42.509302Z"
    }
   },
   "id": "90e12616d78c802",
   "execution_count": 23
  },
  {
   "cell_type": "code",
   "outputs": [
    {
     "data": {
      "text/plain": "array([13, 10,  8,  9, 11, 12,  9,  8, 10,  7,  7,  7,  7,  7,  7,  7,  7,\n        0,  0,  0,  0,  0,  0,  0,  0,  0,  0,  0,  0,  0,  0,  0,  0,  0,\n        0,  0,  1,  0,  0,  0,  0,  0,  0,  0,  0,  0,  0,  0,  0,  1,  1,\n        1,  0,  1,  1,  1,  1,  4,  2,  3,  5,  6,  3,  2,  4])"
     },
     "execution_count": 27,
     "metadata": {},
     "output_type": "execute_result"
    }
   ],
   "source": [],
   "metadata": {
    "collapsed": false,
    "ExecuteTime": {
     "end_time": "2024-06-17T06:35:49.922711Z",
     "start_time": "2024-06-17T06:35:49.918667Z"
    }
   },
   "id": "636faa11b8ccd7c0",
   "execution_count": 27
  }
 ],
 "metadata": {
  "kernelspec": {
   "display_name": "Python 3",
   "language": "python",
   "name": "python3"
  },
  "language_info": {
   "codemirror_mode": {
    "name": "ipython",
    "version": 2
   },
   "file_extension": ".py",
   "mimetype": "text/x-python",
   "name": "python",
   "nbconvert_exporter": "python",
   "pygments_lexer": "ipython2",
   "version": "2.7.6"
  }
 },
 "nbformat": 4,
 "nbformat_minor": 5
}
